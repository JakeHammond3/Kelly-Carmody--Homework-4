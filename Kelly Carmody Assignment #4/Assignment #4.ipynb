{
 "cells": [
  {
   "cell_type": "code",
   "execution_count": 5,
   "metadata": {},
   "outputs": [
    {
     "name": "stdout",
     "output_type": "stream",
     "text": [
      "Dictionary: An array with keys mapped to values.\n",
      "String: A sequence of characters\n",
      "Boolean Expression: An expression that evaluates to either true or false\n",
      "Comment: A note for the user that python does not execute\n",
      "Loop: Executes a statement or group of statements one at a time\n",
      "List: A collection of items in a particular order\n",
      "Float: A numerical value with a decimal\n",
      "Integer: A numeric value that is a whole number\n",
      "Set: An unordered collection of unique elements\n",
      "Tuple: A sequence of immutable python objects\n",
      "Splicing: Extracting part of a string or a list\n",
      "Function: A block of organized, reusable code to perform a single related action\n"
     ]
    }
   ],
   "source": [
    "# Problem #1\n",
    "concepts = {'Dictionary:': 'An array with keys mapped to values.', 'String:': 'A sequence of characters', 'Boolean Expression:': 'An expression that evaluates to either true or false', 'Comment:': 'A note for the user that python does not execute', 'Loop:': 'Executes a statement or group of statements one at a time', 'List:': 'A collection of items in a particular order', 'Float:': 'A numerical value with a decimal', 'Integer:': 'A numeric value that is a whole number', 'Set:': 'An unordered collection of unique elements', 'Tuple:': 'A sequence of immutable python objects', 'Splicing:': 'Extracting part of a string or a list', 'Function:': 'A block of organized, reusable code to perform a single related action'}\n",
    "for concept in concepts:\n",
    "    print(concept, concepts[concept])"
   ]
  },
  {
   "cell_type": "code",
   "execution_count": 10,
   "metadata": {},
   "outputs": [
    {
     "name": "stdout",
     "output_type": "stream",
     "text": [
      "{'Green Street Hooligans', 'The Matrix'}\n",
      "{'Party Monster', 'Factory Girl', 'Gladiator', 'Jarhead', 'Blue is the warmest color'}\n"
     ]
    }
   ],
   "source": [
    "#Problem #2\n",
    "My_movies = {'Party Monster', 'Green Street Hooligans', 'Jarhead', 'Gladiator', 'Blue is the warmest color', 'The Matrix', 'Factory Girl'}\n",
    "Dad_movies = {'Broad Street Bullies', 'A Hard Day\\'s Night', 'Green Street Hooligans', 'Citizen Kane', 'The Matrix', 'The Bronx is Burning'}\n",
    "common_movies = My_movies.intersection(Dad_movies)\n",
    "# common_movies = Movies that are both mine and my dad's favorites\n",
    "only_mymovies = My_movies.difference(Dad_movies)\n",
    "# only_mymovies = Movies that are only my favorite movies and not my dad's\n",
    "print(common_movies)\n",
    "print(only_mymovies)"
   ]
  },
  {
   "cell_type": "code",
   "execution_count": 11,
   "metadata": {},
   "outputs": [
    {
     "name": "stdout",
     "output_type": "stream",
     "text": [
      "Wake Up\n",
      "Go Running\n",
      "Eat Breakfast\n",
      "Shower\n",
      "Brush Teeth\n",
      "Go to Work\n",
      "Eat Lunch\n",
      "Leave Work\n",
      "Study\n",
      "Make Dinner\n",
      "Go to Class\n",
      "Come Home\n",
      "Read\n",
      "Brush Teeth\n",
      "Sleep\n"
     ]
    }
   ],
   "source": [
    "#Problem #3\n",
    "activities = ('Wake Up', 'Go Running', 'Eat Breakfast', 'Shower', 'Brush Teeth', 'Go to Work', 'Eat Lunch', 'Leave Work', 'Study', 'Make Dinner', 'Go to Class', 'Come Home', 'Read', 'Brush Teeth', 'Sleep')\n",
    "for activity in activities:\n",
    "    print(activity)"
   ]
  },
  {
   "cell_type": "code",
   "execution_count": null,
   "metadata": {},
   "outputs": [],
   "source": []
  }
 ],
 "metadata": {
  "kernelspec": {
   "display_name": "Python 3",
   "language": "python",
   "name": "python3"
  },
  "language_info": {
   "codemirror_mode": {
    "name": "ipython",
    "version": 3
   },
   "file_extension": ".py",
   "mimetype": "text/x-python",
   "name": "python",
   "nbconvert_exporter": "python",
   "pygments_lexer": "ipython3",
   "version": "3.6.0"
  }
 },
 "nbformat": 4,
 "nbformat_minor": 2
}
